{
 "cells": [
  {
   "cell_type": "markdown",
   "metadata": {},
   "source": [
    "# Sparkify Project Workspace\n",
    "This workspace contains a tiny subset (128MB) of the full dataset available (12GB). Feel free to use this workspace to build your project, or to explore a smaller subset with Spark before deploying your cluster on the cloud. Instructions for setting up your Spark cluster is included in the last lesson of the Extracurricular Spark Course content.\n",
    "\n",
    "You can follow the steps below to guide your data analysis and model building portion of this project."
   ]
  },
  {
   "cell_type": "code",
   "execution_count": 87,
   "metadata": {},
   "outputs": [],
   "source": [
    "# import libraries\n",
    "\n",
    "from pyspark.sql import SparkSession\n",
    "from pyspark.sql.functions import isnan, count, when, col, desc, udf, col, sort_array, asc, avg, countDistinct\n",
    "from pyspark.sql.functions import sum as Fsum\n",
    "from pyspark.sql.window import Window\n",
    "from pyspark.sql.types import IntegerType\n",
    "from pyspark.sql import functions as psqf\n",
    "import datetime\n",
    "import matplotlib.pyplot as plt\n",
    "import seaborn as sns\n",
    "import pandas as pd\n",
    "from pyspark.ml.feature import StandardScaler, VectorAssembler, StringIndexer, OneHotEncoderEstimator\n",
    "from pyspark.ml.classification import LogisticRegression, RandomForestClassifier, GBTClassifier\n",
    "from pyspark.ml.tuning import CrossValidator, ParamGridBuilder\n",
    "from pyspark.ml import Pipeline\n",
    "from pyspark.mllib.evaluation import BinaryClassificationMetrics, MulticlassMetrics\n",
    "from pyspark.ml.tuning import CrossValidator, ParamGridBuilder\n",
    "from pyspark.ml.evaluation import BinaryClassificationEvaluator\n",
    "\n",
    "\n",
    "%matplotlib inline\n"
   ]
  },
  {
   "cell_type": "code",
   "execution_count": 88,
   "metadata": {},
   "outputs": [],
   "source": [
    "# create a Spark session\n",
    "spark = SparkSession.builder.getOrCreate()"
   ]
  },
  {
   "cell_type": "code",
   "execution_count": 89,
   "metadata": {},
   "outputs": [
    {
     "data": {
      "text/plain": [
       "[('spark.app.id', 'local-1569459235119'),\n",
       " ('spark.driver.host', '0c1bb193dcfb'),\n",
       " ('spark.rdd.compress', 'True'),\n",
       " ('spark.serializer.objectStreamReset', '100'),\n",
       " ('spark.master', 'local[*]'),\n",
       " ('spark.executor.id', 'driver'),\n",
       " ('spark.submit.deployMode', 'client'),\n",
       " ('spark.driver.port', '34571'),\n",
       " ('spark.ui.showConsoleProgress', 'true'),\n",
       " ('spark.app.name', 'pyspark-shell')]"
      ]
     },
     "execution_count": 89,
     "metadata": {},
     "output_type": "execute_result"
    }
   ],
   "source": [
    "# spark context params \n",
    "spark.sparkContext.getConf().getAll()"
   ]
  },
  {
   "cell_type": "markdown",
   "metadata": {},
   "source": [
    "# Load and Clean Dataset\n",
    "In this workspace, the mini-dataset file is `mini_sparkify_event_data.json`. Load and clean the dataset, checking for invalid or missing data - for example, records without userids or sessionids. "
   ]
  },
  {
   "cell_type": "code",
   "execution_count": 90,
   "metadata": {},
   "outputs": [],
   "source": [
    "df = spark.read.json(\"mini_sparkify_event_data.json\")"
   ]
  },
  {
   "cell_type": "code",
   "execution_count": 91,
   "metadata": {},
   "outputs": [
    {
     "data": {
      "text/plain": [
       "Row(artist='Martha Tilston', auth='Logged In', firstName='Colin', gender='M', itemInSession=50, lastName='Freeman', length=277.89016, level='paid', location='Bakersfield, CA', method='PUT', page='NextSong', registration=1538173362000, sessionId=29, song='Rockpools', status=200, ts=1538352117000, userAgent='Mozilla/5.0 (Windows NT 6.1; WOW64; rv:31.0) Gecko/20100101 Firefox/31.0', userId='30')"
      ]
     },
     "execution_count": 91,
     "metadata": {},
     "output_type": "execute_result"
    }
   ],
   "source": [
    "df.head()"
   ]
  },
  {
   "cell_type": "code",
   "execution_count": 92,
   "metadata": {},
   "outputs": [
    {
     "name": "stdout",
     "output_type": "stream",
     "text": [
      "number of rows:  286500\n"
     ]
    }
   ],
   "source": [
    "print(\"number of rows: \", df.count())"
   ]
  },
  {
   "cell_type": "code",
   "execution_count": 93,
   "metadata": {},
   "outputs": [
    {
     "name": "stdout",
     "output_type": "stream",
     "text": [
      "+------+\n",
      "|userId|\n",
      "+------+\n",
      "|      |\n",
      "|    10|\n",
      "|   100|\n",
      "|100001|\n",
      "|100002|\n",
      "+------+\n",
      "only showing top 5 rows\n",
      "\n",
      "+---------+\n",
      "|sessionId|\n",
      "+---------+\n",
      "|        1|\n",
      "|        2|\n",
      "|        3|\n",
      "|        4|\n",
      "|        5|\n",
      "+---------+\n",
      "only showing top 5 rows\n",
      "\n"
     ]
    }
   ],
   "source": [
    "# check for blank userId and sessionId\n",
    "df.select('userId').dropDuplicates().sort('userId').show(5)\n",
    "df.select('sessionId').dropDuplicates().sort('sessionId').show(5)\n",
    "\n",
    "# drop nas and blank userIds from df \n",
    "df = df.dropna(how = 'any', subset = ['userId', 'sessionId'])\n",
    "df = df.filter(df['userId'] != '')"
   ]
  },
  {
   "cell_type": "code",
   "execution_count": 94,
   "metadata": {},
   "outputs": [
    {
     "name": "stdout",
     "output_type": "stream",
     "text": [
      "number of rows without dupe userId and sessionId and blank userId:  278154\n"
     ]
    }
   ],
   "source": [
    "print(\"number of rows without dupe userId and sessionId and blank userId: \", df.count())"
   ]
  },
  {
   "cell_type": "markdown",
   "metadata": {},
   "source": [
    "# Exploratory Data Analysis\n",
    "When you're working with the full dataset, perform EDA by loading a small subset of the data and doing basic manipulations within Spark. In this workspace, you are already provided a small subset of data you can explore."
   ]
  },
  {
   "cell_type": "code",
   "execution_count": 95,
   "metadata": {},
   "outputs": [
    {
     "name": "stdout",
     "output_type": "stream",
     "text": [
      "root\n",
      " |-- artist: string (nullable = true)\n",
      " |-- auth: string (nullable = true)\n",
      " |-- firstName: string (nullable = true)\n",
      " |-- gender: string (nullable = true)\n",
      " |-- itemInSession: long (nullable = true)\n",
      " |-- lastName: string (nullable = true)\n",
      " |-- length: double (nullable = true)\n",
      " |-- level: string (nullable = true)\n",
      " |-- location: string (nullable = true)\n",
      " |-- method: string (nullable = true)\n",
      " |-- page: string (nullable = true)\n",
      " |-- registration: long (nullable = true)\n",
      " |-- sessionId: long (nullable = true)\n",
      " |-- song: string (nullable = true)\n",
      " |-- status: long (nullable = true)\n",
      " |-- ts: long (nullable = true)\n",
      " |-- userAgent: string (nullable = true)\n",
      " |-- userId: string (nullable = true)\n",
      "\n"
     ]
    }
   ],
   "source": [
    "df.printSchema()\n",
    "# df.describe()   # similar info as above"
   ]
  },
  {
   "cell_type": "code",
   "execution_count": null,
   "metadata": {},
   "outputs": [],
   "source": []
  },
  {
   "cell_type": "code",
   "execution_count": 96,
   "metadata": {},
   "outputs": [
    {
     "name": "stdout",
     "output_type": "stream",
     "text": [
      "artist has 17656 unique values\n",
      "auth has 2 unique values\n",
      "firstName has 189 unique values\n",
      "gender has 2 unique values\n",
      "itemInSession has 1311 unique values\n",
      "lastName has 173 unique values\n",
      "length has 14866 unique values\n",
      "level has 2 unique values\n",
      "location has 114 unique values\n",
      "method has 2 unique values\n",
      "page has 19 unique values\n",
      "registration has 225 unique values\n",
      "sessionId has 2312 unique values\n",
      "song has 58481 unique values\n",
      "status has 3 unique values\n",
      "ts has 269770 unique values\n",
      "userAgent has 56 unique values\n",
      "userId has 225 unique values\n"
     ]
    }
   ],
   "source": [
    "# distinct counts for each variables \n",
    "for var in df.columns:\n",
    "    uniques = df.select(var).dropDuplicates().count()\n",
    "    print('{} has {} unique values'.format(var, uniques)) "
   ]
  },
  {
   "cell_type": "markdown",
   "metadata": {},
   "source": []
  },
  {
   "cell_type": "code",
   "execution_count": 97,
   "metadata": {},
   "outputs": [
    {
     "name": "stdout",
     "output_type": "stream",
     "text": [
      "+---------+------+\n",
      "|     auth| count|\n",
      "+---------+------+\n",
      "|Logged In|278102|\n",
      "|Cancelled|    52|\n",
      "+---------+------+\n",
      "\n",
      "+------+------+\n",
      "|gender| count|\n",
      "+------+------+\n",
      "|     F|154578|\n",
      "|     M|123576|\n",
      "+------+------+\n",
      "\n",
      "+-----+------+\n",
      "|level| count|\n",
      "+-----+------+\n",
      "| paid|222433|\n",
      "| free| 55721|\n",
      "+-----+------+\n",
      "\n",
      "+--------------------+------+\n",
      "|                page| count|\n",
      "+--------------------+------+\n",
      "|            NextSong|228108|\n",
      "|           Thumbs Up| 12551|\n",
      "|                Home| 10082|\n",
      "|     Add to Playlist|  6526|\n",
      "|          Add Friend|  4277|\n",
      "|         Roll Advert|  3933|\n",
      "|              Logout|  3226|\n",
      "|         Thumbs Down|  2546|\n",
      "|           Downgrade|  2055|\n",
      "|            Settings|  1514|\n",
      "|                Help|  1454|\n",
      "|             Upgrade|   499|\n",
      "|               About|   495|\n",
      "|       Save Settings|   310|\n",
      "|               Error|   252|\n",
      "|      Submit Upgrade|   159|\n",
      "|    Submit Downgrade|    63|\n",
      "|              Cancel|    52|\n",
      "|Cancellation Conf...|    52|\n",
      "+--------------------+------+\n",
      "\n"
     ]
    }
   ],
   "source": [
    "# check counts of unique values for certain fields\n",
    "cols = ['auth','gender','level','page']\n",
    "for var in cols: \n",
    "    df.groupBy(var).count().sort('count', ascending=False).show(30)"
   ]
  },
  {
   "cell_type": "code",
   "execution_count": 241,
   "metadata": {},
   "outputs": [
    {
     "name": "stdout",
     "output_type": "stream",
     "text": [
      "+--------------------+------------+\n",
      "|                page|unique_users|\n",
      "+--------------------+------------+\n",
      "|    Submit Downgrade|          49|\n",
      "|Cancellation Conf...|          52|\n",
      "+--------------------+------------+\n",
      "\n"
     ]
    }
   ],
   "source": [
    "# check how many unique users saw cancellation confirmation and submit downgrade page \n",
    "\n",
    "df.groupBy(['page'])\\\n",
    "        .agg(countDistinct('userId'))\\\n",
    "        .withColumnRenamed('count(Distinct userId)', 'unique_users')\\\n",
    "        .where((df.page == 'Cancellation Confirmation') | (df.page == 'Submit Downgrade'))\\\n",
    "        .show()"
   ]
  },
  {
   "cell_type": "code",
   "execution_count": 242,
   "metadata": {},
   "outputs": [
    {
     "name": "stdout",
     "output_type": "stream",
     "text": [
      "+-----+--------------------+------------+\n",
      "|level|                page|unique_users|\n",
      "+-----+--------------------+------------+\n",
      "| free|Cancellation Conf...|          21|\n",
      "| paid|Cancellation Conf...|          31|\n",
      "| paid|    Submit Downgrade|          49|\n",
      "+-----+--------------------+------------+\n",
      "\n"
     ]
    }
   ],
   "source": [
    "# check if cancellation confirmation and submit downgrade can occur for free and paid users\n",
    "\n",
    "df.groupBy(['level','page'])\\\n",
    "        .agg(countDistinct('userId'))\\\n",
    "        .withColumnRenamed('count(Distinct userId)', 'unique_users')\\\n",
    "        .where((df.page == 'Cancellation Confirmation') | (df.page == 'Submit Downgrade'))\\\n",
    "        .show()"
   ]
  },
  {
   "cell_type": "code",
   "execution_count": 243,
   "metadata": {},
   "outputs": [
    {
     "name": "stdout",
     "output_type": "stream",
     "text": [
      "+----------------------+\n",
      "|count(DISTINCT userId)|\n",
      "+----------------------+\n",
      "|                    92|\n",
      "+----------------------+\n",
      "\n"
     ]
    }
   ],
   "source": [
    "# count number of unique users who saw cancellation confirmation and submit downgrade pages\n",
    "\n",
    "df.where((df.page == 'Cancellation Confirmation') | (df.page == 'Submit Downgrade'))\\\n",
    "    .agg(countDistinct('userId'))\\\n",
    "    .show()"
   ]
  },
  {
   "cell_type": "markdown",
   "metadata": {},
   "source": [
    "### EDA findings\n",
    "52/225 unique users saw the cancellation confirimation page. This page can be seen by both free and paid customers.\n",
    "\n",
    "49/225 users saw the submit downgrade page. This can only occur for paid users. \n",
    "\n",
    "92/225 users saw the cancellation confirmation or submit downgrade page.\n",
    "\n",
    "We shall proceed to a user as churned if a user has seen the cancellation confirmation page. \n",
    "\n"
   ]
  },
  {
   "cell_type": "markdown",
   "metadata": {},
   "source": [
    "### Define Churn\n",
    "\n",
    "Once you've done some preliminary analysis, create a column `Churn` to use as the label for your model. I suggest using the `Cancellation Confirmation` events to define your churn, which happen for both paid and free users. As a bonus task, you can also look into the `Downgrade` events.\n"
   ]
  },
  {
   "cell_type": "code",
   "execution_count": 101,
   "metadata": {},
   "outputs": [],
   "source": [
    "# create cancellation function\n",
    "flag_cancellation_event = udf(lambda x: 1 if x == \"Cancellation Confirmation\" else 0, IntegerType())\n",
    "# apply function to create Cancellation field\n",
    "df = df.withColumn(\"cancellation\", flag_cancellation_event(\"page\"))\n",
    "\n",
    "# create downgraded function\n",
    "flag_downgraded_event = udf(lambda x: 1 if x == \"Submit Downgrade\" else 0, IntegerType())\n",
    "# apply function to create Cancellation field\n",
    "df = df.withColumn(\"downgrade\", flag_downgraded_event(\"page\"))\n",
    "\n",
    "# create cancellation or downgraded function\n",
    "flag_cancel_downgrade_event = udf(lambda x: 1 if x in (\"Submit Downgrade\",\"Cancellation Confirmation\") else 0, IntegerType())\n",
    "# apply function to create Cancellation field\n",
    "df = df.withColumn(\"cancelDowngrade\", flag_cancel_downgrade_event(\"page\"))\n"
   ]
  },
  {
   "cell_type": "code",
   "execution_count": 102,
   "metadata": {},
   "outputs": [],
   "source": [
    "# convert relevant fields to timestamp \n",
    "convert_ts = udf(lambda x: datetime.datetime.fromtimestamp(x / 1000.0).strftime(\"%Y-%m-%d %H:%M:%S\"))\n",
    "df = df.withColumn('eventTime', convert_ts('ts'))\n",
    "df = df.withColumn('registrationTime', convert_ts('registration'))"
   ]
  },
  {
   "cell_type": "code",
   "execution_count": 103,
   "metadata": {},
   "outputs": [],
   "source": [
    "# create and apply window function to get phase for cancellation\n",
    "windowval = Window.partitionBy(\"userId\").orderBy(desc(\"ts\")).rangeBetween(Window.unboundedPreceding, 0)\n",
    "df = df.withColumn(\"cancellationPhase\", Fsum(\"cancellation\").over(windowval))"
   ]
  },
  {
   "cell_type": "code",
   "execution_count": 104,
   "metadata": {},
   "outputs": [
    {
     "name": "stdout",
     "output_type": "stream",
     "text": [
      "+--------------------+-------------+-------------------+------------+-----------------+-------------------+\n",
      "|                page|           ts|          eventTime|cancellation|cancellationPhase|   registrationTime|\n",
      "+--------------------+-------------+-------------------+------------+-----------------+-------------------+\n",
      "|              Cancel|1539318918000|2018-10-12 04:35:18|           0|                1|2018-08-01 20:58:59|\n",
      "|Cancellation Conf...|1539318918000|2018-10-12 04:35:18|           1|                1|2018-08-01 20:58:59|\n",
      "|         Roll Advert|1539318917000|2018-10-12 04:35:17|           0|                1|2018-08-01 20:58:59|\n",
      "|            NextSong|1539318906000|2018-10-12 04:35:06|           0|                1|2018-08-01 20:58:59|\n",
      "|            NextSong|1539318728000|2018-10-12 04:32:08|           0|                1|2018-08-01 20:58:59|\n",
      "|            NextSong|1539318515000|2018-10-12 04:28:35|           0|                1|2018-08-01 20:58:59|\n",
      "|            NextSong|1539318124000|2018-10-12 04:22:04|           0|                1|2018-08-01 20:58:59|\n",
      "|            NextSong|1539317914000|2018-10-12 04:18:34|           0|                1|2018-08-01 20:58:59|\n",
      "|            NextSong|1539317711000|2018-10-12 04:15:11|           0|                1|2018-08-01 20:58:59|\n",
      "|            NextSong|1539317481000|2018-10-12 04:11:21|           0|                1|2018-08-01 20:58:59|\n",
      "|            NextSong|1539317144000|2018-10-12 04:05:44|           0|                1|2018-08-01 20:58:59|\n",
      "+--------------------+-------------+-------------------+------------+-----------------+-------------------+\n",
      "\n"
     ]
    }
   ],
   "source": [
    "# test users who saw cancellation confirmation pg \n",
    "# t = ['page','ts', 'eventTime', 'cancellation', 'cancellationPhase', 'registrationTime']\n",
    "# df.select(t).where(df.userId == 125).sort('ts', ascending=False).show(10000)"
   ]
  },
  {
   "cell_type": "code",
   "execution_count": 105,
   "metadata": {},
   "outputs": [
    {
     "name": "stdout",
     "output_type": "stream",
     "text": [
      "+-------+-------------------+\n",
      "|summary|  cancellationPhase|\n",
      "+-------+-------------------+\n",
      "|  count|             278154|\n",
      "|   mean|0.16129194618808287|\n",
      "| stddev|0.36780068056308857|\n",
      "|    min|                  0|\n",
      "|    max|                  1|\n",
      "+-------+-------------------+\n",
      "\n"
     ]
    }
   ],
   "source": [
    "# max is 0, so churned users didn't cancel, resubscribe then cancel again  \n",
    "df.describe('cancellationPhase').show()"
   ]
  },
  {
   "cell_type": "code",
   "execution_count": 106,
   "metadata": {},
   "outputs": [
    {
     "data": {
      "text/plain": [
       "52"
      ]
     },
     "execution_count": 106,
     "metadata": {},
     "output_type": "execute_result"
    }
   ],
   "source": [
    "# all churned users have cancellationPhase == 1 \n",
    "df.select('userId').where(df.cancellationPhase == 1).dropDuplicates().count()"
   ]
  },
  {
   "cell_type": "code",
   "execution_count": 107,
   "metadata": {},
   "outputs": [
    {
     "name": "stdout",
     "output_type": "stream",
     "text": [
      "+-----------------+-----+\n",
      "|cancellationPhase|count|\n",
      "+-----------------+-----+\n",
      "|                0|  173|\n",
      "|                1|   52|\n",
      "+-----------------+-----+\n",
      "\n"
     ]
    }
   ],
   "source": [
    "# and only cancellationPhase = 1 \n",
    "df.select(['userId','cancellationPhase']).dropDuplicates().groupBy('cancellationPhase').count().show()  "
   ]
  },
  {
   "cell_type": "code",
   "execution_count": 108,
   "metadata": {},
   "outputs": [],
   "source": [
    "# create churn field \n",
    "churn_label = udf(lambda x: x)\n",
    "df = df.withColumn('churn', churn_label('cancellationPhase'))"
   ]
  },
  {
   "cell_type": "code",
   "execution_count": null,
   "metadata": {},
   "outputs": [],
   "source": []
  },
  {
   "cell_type": "markdown",
   "metadata": {},
   "source": [
    "### Define churn findings \n",
    "\n",
    "We found that users who see the cancellation confirmation page do not have any activity after this point. Because of that, we can define churned users as those who have seen the cancellation confirmation page. \n",
    "\n",
    "Using this definition, we can proceed to define churned users as those who have seen the cancellation confirmation page. "
   ]
  },
  {
   "cell_type": "code",
   "execution_count": null,
   "metadata": {},
   "outputs": [],
   "source": []
  },
  {
   "cell_type": "markdown",
   "metadata": {},
   "source": [
    "### Explore Data\n",
    "Once you've defined churn, perform some exploratory data analysis to observe the behavior for users who stayed vs users who churned. You can start by exploring aggregates on these two groups of users, observing how much of a specific action they experienced per a certain time unit or number of songs played.\n",
    "\n",
    "# Feature Engineering\n",
    "Once you've familiarized yourself with the data, build out the features you find promising to train your model on. To work with the full dataset, you can follow the following steps.\n",
    "- Write a script to extract the necessary features from the smaller subset of data\n",
    "- Ensure that your script is scalable, using the best practices discussed in Lesson 3\n",
    "- Try your script on the full data set, debugging your script if necessary\n",
    "\n",
    "If you are working in the classroom workspace, you can just extract features based on the small subset of data contained here. Be sure to transfer over this work to the larger dataset when you work on your Spark cluster."
   ]
  },
  {
   "cell_type": "code",
   "execution_count": 109,
   "metadata": {},
   "outputs": [
    {
     "name": "stdout",
     "output_type": "stream",
     "text": [
      "root\n",
      " |-- artist: string (nullable = true)\n",
      " |-- auth: string (nullable = true)\n",
      " |-- firstName: string (nullable = true)\n",
      " |-- gender: string (nullable = true)\n",
      " |-- itemInSession: long (nullable = true)\n",
      " |-- lastName: string (nullable = true)\n",
      " |-- length: double (nullable = true)\n",
      " |-- level: string (nullable = true)\n",
      " |-- location: string (nullable = true)\n",
      " |-- method: string (nullable = true)\n",
      " |-- page: string (nullable = true)\n",
      " |-- registration: long (nullable = true)\n",
      " |-- sessionId: long (nullable = true)\n",
      " |-- song: string (nullable = true)\n",
      " |-- status: long (nullable = true)\n",
      " |-- ts: long (nullable = true)\n",
      " |-- userAgent: string (nullable = true)\n",
      " |-- userId: string (nullable = true)\n",
      " |-- cancellation: integer (nullable = true)\n",
      " |-- downgrade: integer (nullable = true)\n",
      " |-- cancelDowngrade: integer (nullable = true)\n",
      " |-- eventTime: string (nullable = true)\n",
      " |-- registrationTime: string (nullable = true)\n",
      " |-- cancellationPhase: long (nullable = true)\n",
      " |-- churn: string (nullable = true)\n",
      "\n"
     ]
    }
   ],
   "source": [
    "df.printSchema()"
   ]
  },
  {
   "cell_type": "code",
   "execution_count": 110,
   "metadata": {},
   "outputs": [],
   "source": [
    "# create features \n",
    "f1 = df \\\n",
    "    .select('userId','registration','ts') \\\n",
    "    .withColumn('accountAge',(df.ts-df.registration)) \\\n",
    "    .groupBy('userId') \\\n",
    "    .agg({'accountAge':'max'}) \\\n",
    "    .withColumnRenamed('max(accountAge)','accountAge') \\\n",
    "    .select('userId', (col('accountAge')/1000/3600/24).alias('accountAge')) \\\n",
    "\n",
    "f2 = df \\\n",
    "    .select('userId','page') \\\n",
    "    .where(df.page == 'NextSong') \\\n",
    "    .groupBy('userId') \\\n",
    "    .count() \\\n",
    "    .withColumnRenamed('count', 'nextSongCount')\n",
    "\n",
    "f3 = df \\\n",
    "    .select('userId','page') \\\n",
    "    .where(df.page == 'Thumbs Up') \\\n",
    "    .groupBy('userId') \\\n",
    "    .count() \\\n",
    "    .withColumnRenamed('count', 'thumbsUpCount')\n",
    "\n",
    "f4 = df \\\n",
    "    .select('userId','page') \\\n",
    "    .where(df.page == 'Add to Playlist') \\\n",
    "    .groupBy('userId') \\\n",
    "    .count() \\\n",
    "    .withColumnRenamed('count', 'addToPlaylistCount')\n",
    "\n",
    "\n",
    "f5 = df \\\n",
    "    .select('userId','page') \\\n",
    "    .where(df.page == 'Add Friend') \\\n",
    "    .groupBy('userId') \\\n",
    "    .count() \\\n",
    "    .withColumnRenamed('count', 'addFriendCount')\n",
    "\n",
    "\n",
    "f6 = df \\\n",
    "    .select('userId','page') \\\n",
    "    .where(df.page == 'Thumbs Down') \\\n",
    "    .groupBy('userId') \\\n",
    "    .count() \\\n",
    "    .withColumnRenamed('count', 'thumbsDownCount')\n",
    "\n",
    "f7 = df.select(['userId','churn','gender']) \\\n",
    "    .dropDuplicates() \\\n",
    "    .replace(['M', 'F'], ['0', '1'], 'gender')\n",
    "\n",
    "\n"
   ]
  },
  {
   "cell_type": "code",
   "execution_count": 111,
   "metadata": {},
   "outputs": [],
   "source": [
    "df_agg_temp = f1.join(f2,'userID','outer') \\\n",
    "    .join(f3,'userID','outer') \\\n",
    "    .join(f4,'userID','outer') \\\n",
    "    .join(f5,'userID','outer') \\\n",
    "    .join(f6,'userID','outer') \\\n",
    "    .join(f7,'userID','outer') \\\n",
    "    .fillna(0)\n"
   ]
  },
  {
   "cell_type": "code",
   "execution_count": 112,
   "metadata": {},
   "outputs": [],
   "source": [
    "# create PerDay fields \n",
    "df_agg = df_agg_temp \\\n",
    "    .withColumn('nextSongPerDay',(df_agg_temp.nextSongCount/df_agg_temp.accountAge)) \\\n",
    "    .withColumn('thumbsUpPerDay',(df_agg_temp.thumbsUpCount/df_agg_temp.accountAge)) \\\n",
    "    .withColumn('addToPlaylistPerDay',(df_agg_temp.addToPlaylistCount/df_agg_temp.accountAge)) \\\n",
    "    .withColumn('addFriendPerDay',(df_agg_temp.addFriendCount/df_agg_temp.accountAge)) \\\n",
    "    .withColumn('thumbsDownPerDay',(df_agg_temp.thumbsDownCount/df_agg_temp.accountAge)) \\\n",
    "\n"
   ]
  },
  {
   "cell_type": "code",
   "execution_count": 113,
   "metadata": {},
   "outputs": [
    {
     "name": "stdout",
     "output_type": "stream",
     "text": [
      "+-------+-------------------+\n",
      "|summary|         accountAge|\n",
      "+-------+-------------------+\n",
      "|  count|                173|\n",
      "|   mean|  86.62061938021834|\n",
      "| stddev|  35.34864197873643|\n",
      "|    min|0.31372685185185184|\n",
      "|    max|  256.3776736111111|\n",
      "+-------+-------------------+\n",
      "\n",
      "+-------+------------------+\n",
      "|summary|        accountAge|\n",
      "+-------+------------------+\n",
      "|  count|                52|\n",
      "|   mean| 57.30599292200856|\n",
      "| stddev|  36.6331481313374|\n",
      "|    min| 5.165115740740741|\n",
      "|    max|188.31178240740743|\n",
      "+-------+------------------+\n",
      "\n"
     ]
    }
   ],
   "source": [
    "df_agg.select('accountAge').where(df.churn == 0).describe().show()\n",
    "df_agg.select('accountAge').where(df.churn == 1).describe().show()"
   ]
  },
  {
   "cell_type": "code",
   "execution_count": 114,
   "metadata": {},
   "outputs": [
    {
     "name": "stdout",
     "output_type": "stream",
     "text": [
      "+-------+-----+-------------------+------------------+-------------------+------------------+-------------------+\n",
      "|summary|churn|     nextSongPerDay|    thumbsUpPerDay|addToPlaylistPerDay|   addFriendPerDay|   thumbsDownPerDay|\n",
      "+-------+-----+-------------------+------------------+-------------------+------------------+-------------------+\n",
      "|  count|  173|                173|               173|                173|               173|                173|\n",
      "|   mean|  0.0| 13.793239497995875|  0.77078444476239|0.39367546027451245|0.2616988731520424|0.14558862215049578|\n",
      "| stddev|  0.0| 14.529463431515216|0.9325213670298194|0.43342299320632066|0.2836180632558993| 0.1787372397670122|\n",
      "|    min|    0|0.08322979112758225|               0.0|                0.0|               0.0|                0.0|\n",
      "|    max|    0|  75.50298544736305| 7.143278770404341|  2.386541648693441| 1.774080691436577| 1.0866239404589622|\n",
      "+-------+-----+-------------------+------------------+-------------------+------------------+-------------------+\n",
      "\n",
      "+-------+-----+-------------------+------------------+-------------------+-------------------+-------------------+\n",
      "|summary|churn|     nextSongPerDay|    thumbsUpPerDay|addToPlaylistPerDay|    addFriendPerDay|   thumbsDownPerDay|\n",
      "+-------+-----+-------------------+------------------+-------------------+-------------------+-------------------+\n",
      "|  count|   52|                 52|                52|                 52|                 52|                 52|\n",
      "|   mean|  1.0| 15.405331436548625| 0.759397308362752|0.44891372875345004| 0.2708638489028281| 0.2091964629357443|\n",
      "| stddev|  0.0| 20.098884368921148|0.9736396648965072|  0.566233648445422|0.29279911869509523|0.23493671381465886|\n",
      "|    min|    1|0.11217539609908113|               0.0|                0.0|                0.0|                0.0|\n",
      "|    max|    1| 108.50209847202682|  5.13984360360146|  2.672718673872759|  1.439156209008409| 1.0793671567563066|\n",
      "+-------+-----+-------------------+------------------+-------------------+-------------------+-------------------+\n",
      "\n"
     ]
    }
   ],
   "source": [
    "features = ['churn','nextSongPerDay','thumbsUpPerDay','addToPlaylistPerDay',\n",
    "           'addFriendPerDay','thumbsDownPerDay']\n",
    "df_agg.select(features).where(df.churn == 0).describe().show()\n",
    "df_agg.select(features).where(df.churn == 1).describe().show()"
   ]
  },
  {
   "cell_type": "code",
   "execution_count": 218,
   "metadata": {},
   "outputs": [],
   "source": [
    "# visualize above \n",
    "features = ['churn','accountAge','nextSongPerDay','thumbsUpPerDay','addToPlaylistPerDay',\n",
    "           'addFriendPerDay','thumbsDownPerDay']\n",
    "df_agg_viz_churn = df_agg.select(features).where(df.churn == 0).describe().toPandas()\n",
    "df_agg_viz_no_churn = df_agg.select(features).where(df.churn == 1).describe().toPandas()\n",
    "\n",
    "df_agg_viz = pd.concat([df_agg_viz_churn, df_agg_viz_no_churn])\n",
    "df_agg_viz = df_agg_viz[df_agg_viz['summary'] == 'mean']\n",
    "\n",
    "for f in features: \n",
    "    df_agg_viz[f] = df_agg_viz[f].astype('float')\n",
    "    "
   ]
  },
  {
   "cell_type": "code",
   "execution_count": 240,
   "metadata": {},
   "outputs": [
    {
     "data": {
      "image/png": "[encoded data removed]",
      "text/plain": [
       "<matplotlib.figure.Figure at 0x7efe502bf4a8>"
      ]
     },
     "metadata": {
      "needs_background": "light"
     },
     "output_type": "display_data"
    }
   ],
   "source": [
    "figure, axs = plt.subplots(nrows=2, ncols=3, figsize = (20, 15))\n",
    "figure.suptitle('Churn Features Means', size=30);\n",
    "\n",
    "plt.subplots_adjust(wspace=0.2, hspace=0.3)\n",
    "\n",
    "sns.barplot(x=\"churn\", y=\"accountAge\", data=df_agg_viz, ax=axs[0][0])\n",
    "axs[0][0].set_title('Avg Account Age and Churn', size=20)\n",
    "axs[0][0].set_ylabel('Avg Account Age', size=15)\n",
    "axs[0][0].set_xlabel('Churn', size=15)\n",
    "\n",
    "sns.barplot(x=\"churn\", y=\"nextSongPerDay\", data=df_agg_viz, ax=axs[0][1])\n",
    "axs[0][1].set_title('Next Songs Per Day and Churn', size=20)\n",
    "axs[0][1].set_ylabel('Next Songs Per Day')\n",
    "axs[0][1].set_xlabel('Churn', size=15)\n",
    "\n",
    "sns.barplot(x=\"churn\", y=\"thumbsUpPerDay\", data=df_agg_viz, ax=axs[0][2])\n",
    "axs[0][2].set_title('Thumbs Up Per Day and Churn', size=20)\n",
    "axs[0][2].set_ylabel('Thumbs Up Per Day', size=15)\n",
    "axs[0][2].set_xlabel('Churn', size=15)\n",
    "\n",
    "sns.barplot(x=\"churn\", y=\"addToPlaylistPerDay\", data=df_agg_viz, ax=axs[1][0])\n",
    "axs[1][0].set_title('Adds to Playlist Per Day and Churn', size=20)\n",
    "axs[1][0].set_ylabel('Adds to Playlist Per Day', size=15)\n",
    "axs[1][0].set_xlabel('Churn', size=15)\n",
    "\n",
    "sns.barplot(x=\"churn\", y=\"addFriendPerDay\", data=df_agg_viz, ax=axs[1][1])\n",
    "axs[1][1].set_title('Added Friends Per Day and Churn', size=20)\n",
    "axs[1][1].set_ylabel('Added Friends Per Day', size=15)\n",
    "axs[1][1].set_xlabel('Churn', size=15)\n",
    "\n",
    "sns.barplot(x=\"churn\", y=\"thumbsDownPerDay\", data=df_agg_viz, ax=axs[1][2])\n",
    "axs[1][2].set_title('Thumbs Down Per Day and Churn', size=20)\n",
    "axs[1][2].set_ylabel('Thumbs Down Per Day', size=15)\n",
    "axs[1][2].set_xlabel('Churn', size=15)\n",
    "\n",
    "plt.show()"
   ]
  },
  {
   "cell_type": "code",
   "execution_count": 119,
   "metadata": {},
   "outputs": [
    {
     "name": "stderr",
     "output_type": "stream",
     "text": [
      "/opt/conda/lib/python3.6/site-packages/ipykernel_launcher.py:7: SettingWithCopyWarning: \n",
      "A value is trying to be set on a copy of a slice from a DataFrame.\n",
      "Try using .loc[row_indexer,col_indexer] = value instead\n",
      "\n",
      "See the caveats in the documentation: http://pandas.pydata.org/pandas-docs/stable/indexing.html#indexing-view-versus-copy\n",
      "  import sys\n",
      "/opt/conda/lib/python3.6/site-packages/ipykernel_launcher.py:8: SettingWithCopyWarning: \n",
      "A value is trying to be set on a copy of a slice from a DataFrame.\n",
      "Try using .loc[row_indexer,col_indexer] = value instead\n",
      "\n",
      "See the caveats in the documentation: http://pandas.pydata.org/pandas-docs/stable/indexing.html#indexing-view-versus-copy\n",
      "  \n"
     ]
    },
    {
     "data": {
      "image/png": "[encoded data removed]",
      "text/plain": [
       "<matplotlib.figure.Figure at 0x7efe5821e048>"
      ]
     },
     "metadata": {
      "needs_background": "light"
     },
     "output_type": "display_data"
    }
   ],
   "source": [
    "# visualize gender and level \n",
    "gender_pd = df_agg.groupby([\"churn\", \"gender\"]).count().toPandas()\n",
    "gender_M = gender_pd[gender_pd['gender'] == '0']\n",
    "gender_F = gender_pd[gender_pd['gender'] == '1']\n",
    "\n",
    "## divide by male and femal counts\n",
    "gender_M['percent'] = round(gender_M['count'].astype(int)/(89+32)*100, 2)\n",
    "gender_F['percent'] = round(gender_F['count'].astype(int)/(84+20)*100, 2)\n",
    "\n",
    "gender_pd = pd.concat([gender_M, gender_F])\n",
    "\n",
    "ax = sns.barplot(x='churn', y='percent', hue='gender', data=gender_pd)\n",
    "plt.xlabel('Churned (0-No, 1-Yes)')\n",
    "plt.ylabel('Percentage')\n",
    "plt.legend(title='Gender')\n",
    "plt.title('Churn Percent by Gender')\n",
    "plt.show()"
   ]
  },
  {
   "cell_type": "code",
   "execution_count": null,
   "metadata": {},
   "outputs": [],
   "source": []
  },
  {
   "cell_type": "markdown",
   "metadata": {},
   "source": [
    "### EDA churn findings \n",
    "\n",
    "\n",
    "\n",
    "Aggregate stats indicate that, in general, users who churned have: \n",
    "- Shorter account ages than users who didn't churn, suggesting that the longer a user has had an account, the less likely they are to churn.\n",
    "\n",
    "- A slightly higher average for next songs per day, indicating that maybe churned users flip through more songs (and don't complete as many) as users who didn't churn. \n",
    "\n",
    "- A slightly lower average number of thumbs up per day, suggesting that users who churn are less engaged in this manner. \n",
    "\n",
    "- A slightly higher number of adds to playlists per day, indicating that perhaps churned users are a little more particular about their music tastes. \n",
    "\n",
    "- A marginally higher average number of friends added per day.\n",
    "\n",
    "- A higher average number of thumbs down per day, indicating that churned users are more active in voicing negative opinions in this manner. \n",
    "\n",
    "The churn by gender barplot shows that males are slightly more likely to churn than females. \n",
    "\n",
    "Note, the averages for next songs per day, thumbs up per day, and added friends per day are marginally different and out sample size is quite small at 225 users, so we should definitely take these findings with a grain of salt. \n"
   ]
  },
  {
   "cell_type": "markdown",
   "metadata": {},
   "source": [
    "# Modeling\n",
    "Split the full dataset into train, test, and validation sets. Test out several of the machine learning methods you learned. Evaluate the accuracy of the various models, tuning parameters as necessary. Determine your winning model based on test accuracy and report results on the validation set. Since the churned users are a fairly small subset, I suggest using F1 score as the metric to optimize."
   ]
  },
  {
   "cell_type": "code",
   "execution_count": 142,
   "metadata": {},
   "outputs": [],
   "source": [
    "# create df for modeling \n",
    "df_agg2_cols = ['userId','accountAge', 'label', 'gender',\n",
    "                'nextSongPerDay', 'thumbsUpPerDay', 'addToPlaylistPerDay',\n",
    "                'addFriendPerDay','thumbsDownPerDay']\n",
    "df_agg2 = df_agg.withColumn(\"label\",df_agg.churn.cast(\"Int\")) \\\n",
    "        .select(df_agg2_cols)"
   ]
  },
  {
   "cell_type": "code",
   "execution_count": 144,
   "metadata": {},
   "outputs": [
    {
     "name": "stdout",
     "output_type": "stream",
     "text": [
      "root\n",
      " |-- userId: string (nullable = true)\n",
      " |-- accountAge: double (nullable = false)\n",
      " |-- label: integer (nullable = true)\n",
      " |-- gender: string (nullable = true)\n",
      " |-- nextSongPerDay: double (nullable = true)\n",
      " |-- thumbsUpPerDay: double (nullable = true)\n",
      " |-- addToPlaylistPerDay: double (nullable = true)\n",
      " |-- addFriendPerDay: double (nullable = true)\n",
      " |-- thumbsDownPerDay: double (nullable = true)\n",
      "\n"
     ]
    }
   ],
   "source": [
    "df_agg2.printSchema()"
   ]
  },
  {
   "cell_type": "code",
   "execution_count": 145,
   "metadata": {},
   "outputs": [],
   "source": [
    "# split train and test datasets\n",
    "train, test = df_agg2.randomSplit([0.6, 0.4], seed=2)"
   ]
  },
  {
   "cell_type": "code",
   "execution_count": 168,
   "metadata": {},
   "outputs": [],
   "source": [
    "# format variables \n",
    "\n",
    "# index categorical feature\n",
    "stringIndexerGender = StringIndexer(inputCol=\"gender\", outputCol=\"genderIndex\") \n",
    "encoder = OneHotEncoderEstimator(inputCols=[\"genderIndex\"], outputCols=[\"genderVec\"])\n",
    "\n",
    "# vector assembler - create vector for features\n",
    "features = ['genderVec','accountAge', 'nextSongPerDay', 'thumbsUpPerDay', 'addToPlaylistPerDay',\n",
    "            'addFriendPerDay', 'thumbsDownPerDay']\n",
    "assembler = VectorAssembler(inputCols=features, outputCol=\"features\")\n",
    "# df_agg2_features = assembler.transform(df_agg2)\n",
    "\n",
    "# # scale vectors\n",
    "    # won't do this because have categorical and numeric features \n",
    "# scaler = StandardScaler(inputCol=\"features\", outputCol=\"ScaledNumFeatures\", withStd=True)\n",
    "\n",
    "\n"
   ]
  },
  {
   "cell_type": "code",
   "execution_count": 186,
   "metadata": {},
   "outputs": [],
   "source": [
    "# models and pipelines \n",
    "\n",
    "# https://spark.apache.org/docs/latest/ml-classification-regression.html#logistic-regression\n",
    "lr =  LogisticRegression()\n",
    "lr_pipeline = Pipeline(stages = [stringIndexerGender, encoder, \n",
    "                                 assembler, lr])\n",
    "\n",
    "# https://spark.apache.org/docs/latest/ml-classification-regression.html#random-forest-classifier\n",
    "rf = RandomForestClassifier(numTrees=5, maxDepth=5, labelCol=\"label\", \n",
    "                            featuresCol=\"features\", seed=2)\n",
    "rf_pipeline = Pipeline(stages = [stringIndexerGender, encoder, \n",
    "                                 assembler, rf])\n",
    "\n",
    "# https://spark.apache.org/docs/latest/ml-classification-regression.html#gradient-boosted-tree-classifier\n",
    "gbt = GBTClassifier(labelCol=\"label\", featuresCol=\"features\", seed=2)\n",
    "\n",
    "gbt_pipeline = Pipeline(stages = [stringIndexerGender, encoder, \n",
    "                                 assembler, gbt])"
   ]
  },
  {
   "cell_type": "code",
   "execution_count": 178,
   "metadata": {},
   "outputs": [],
   "source": [
    "# initialize fscore dict\n",
    "f_score_dict = {}"
   ]
  },
  {
   "cell_type": "code",
   "execution_count": 183,
   "metadata": {},
   "outputs": [],
   "source": [
    "# eval metrics\n",
    "# https://spark.apache.org/docs/2.2.0/mllib-evaluation-metrics.html\n",
    "\n",
    "lr_model = lr_pipeline.fit(train)\n",
    "lr_pred_train = lr_model.transform(train)\n",
    "lr_pred_test = lr_model.transform(test)\n",
    "\n",
    "# f1 score for train\n",
    "predictionAndLabels = lr_pred_train.rdd.map(lambda lp: (float(lp.prediction), float(lp.label)))\n",
    "# Instantiate metrics object\n",
    "metrics = MulticlassMetrics(predictionAndLabels)\n",
    "f_score_dict.update({'lr_train': metrics.fMeasure()})\n",
    "\n",
    "# f1 score for test\n",
    "predictionAndLabels = lr_pred_test.rdd.map(lambda lp: (float(lp.prediction), float(lp.label)))\n",
    "# Instantiate metrics object\n",
    "metrics = MulticlassMetrics(predictionAndLabels)\n",
    "f_score_dict.update({'lr_test': metrics.fMeasure()})\n"
   ]
  },
  {
   "cell_type": "code",
   "execution_count": 187,
   "metadata": {},
   "outputs": [],
   "source": [
    "rf_model = rf_pipeline.fit(train)\n",
    "rf_pred_train = rf_model.transform(train)\n",
    "rf_pred_test = rf_model.transform(test)\n",
    "\n",
    "# f1 score for train\n",
    "predictionAndLabels = rf_pred_train.rdd.map(lambda lp: (float(lp.prediction), float(lp.label)))\n",
    "# Instantiate metrics object\n",
    "metrics = MulticlassMetrics(predictionAndLabels)\n",
    "f_score_dict.update({'rf_train': metrics.fMeasure()})\n",
    "\n",
    "# f1 score for test\n",
    "predictionAndLabels = rf_pred_test.rdd.map(lambda lp: (float(lp.prediction), float(lp.label)))\n",
    "# Instantiate metrics object\n",
    "metrics = MulticlassMetrics(predictionAndLabels)\n",
    "f_score_dict.update({'rf_test': metrics.fMeasure()})\n"
   ]
  },
  {
   "cell_type": "code",
   "execution_count": 188,
   "metadata": {},
   "outputs": [],
   "source": [
    "gbt_model = gbt_pipeline.fit(train)\n",
    "gbt_pred_train = gbt_model.transform(train)\n",
    "gbt_pred_test = gbt_model.transform(test)\n",
    "\n",
    "# f1 score for train\n",
    "predictionAndLabels = gbt_pred_train.rdd.map(lambda lp: (float(lp.prediction), float(lp.label)))\n",
    "# Instantiate metrics object\n",
    "metrics = MulticlassMetrics(predictionAndLabels)\n",
    "f_score_dict.update({'gbt_train': metrics.fMeasure()})\n",
    "\n",
    "# f1 score for test\n",
    "predictionAndLabels = gbt_pred_test.rdd.map(lambda lp: (float(lp.prediction), float(lp.label)))\n",
    "# Instantiate metrics object\n",
    "metrics = MulticlassMetrics(predictionAndLabels)\n",
    "f_score_dict.update({'gbt_test': metrics.fMeasure()})\n"
   ]
  },
  {
   "cell_type": "code",
   "execution_count": 189,
   "metadata": {},
   "outputs": [],
   "source": [
    "# random forest seems to perform best on test data\n",
    "# perform cross validation on to try to optimize model "
   ]
  },
  {
   "cell_type": "code",
   "execution_count": 206,
   "metadata": {},
   "outputs": [
    {
     "data": {
      "image/png": "[encoded data removed]",
      "text/plain": [
       "<matplotlib.figure.Figure at 0x7efe58065c50>"
      ]
     },
     "metadata": {
      "needs_background": "light"
     },
     "output_type": "display_data"
    }
   ],
   "source": [
    "f_score_dict = {'lr_train': 0.8602941176470589,\n",
    " 'lr_test': 0.7752808988764045,\n",
    " 'rf_train': 0.9411764705882353,\n",
    " 'rf_test': 0.7865168539325843,\n",
    " 'gbt_train': 1.0,\n",
    " 'gbt_test': 0.7528089887640449}\n",
    "\n",
    "plt.bar(range(len(f_score_dict)), list(f_score_dict.values()), align='center')\n",
    "plt.title('f1 scores')\n",
    "plt.xticks(range(len(f_score_dict)), list(f_score_dict.keys()),\n",
    "          rotation='vertical')\n",
    "plt.ylabel('f1 score')\n",
    "plt.show()"
   ]
  },
  {
   "cell_type": "code",
   "execution_count": 199,
   "metadata": {},
   "outputs": [],
   "source": [
    "# random forest cross validation \n",
    "# https://spark.apache.org/docs/latest/ml-tuning.html\n",
    "paramGrid_rf = ParamGridBuilder() \\\n",
    "    .addGrid(rf.numTrees,[5, 10]) \\\n",
    "    .addGrid(rf.maxDepth, [5, 10]) \\\n",
    "    .build()\n",
    "\n",
    "crossval_rf = CrossValidator(estimator=rf_pipeline,\n",
    "                          estimatorParamMaps=paramGrid_rf,\n",
    "                          evaluator=BinaryClassificationEvaluator(),\n",
    "                          numFolds=3)\n",
    "\n",
    "cv_mod_rf = crossval_rf.fit(train)"
   ]
  },
  {
   "cell_type": "code",
   "execution_count": 200,
   "metadata": {},
   "outputs": [],
   "source": [
    "cv_rf_pred_train = cv_mod_rf.transform(train)\n",
    "cv_rf_pred_test = cv_mod_rf.transform(test)\n",
    "\n",
    "# f1 score for train\n",
    "predictionAndLabels = cv_rf_pred_train.rdd.map(lambda lp: (float(lp.prediction), float(lp.label)))\n",
    "# Instantiate metrics object\n",
    "metrics = MulticlassMetrics(predictionAndLabels)\n",
    "f_score_dict.update({'cv_rf_train': metrics.fMeasure()})\n",
    "\n",
    "# f1 score for test\n",
    "predictionAndLabels = cv_rf_pred_test.rdd.map(lambda lp: (float(lp.prediction), float(lp.label)))\n",
    "# Instantiate metrics object\n",
    "metrics = MulticlassMetrics(predictionAndLabels)\n",
    "f_score_dict.update({'cv_rf_test': metrics.fMeasure()})\n"
   ]
  },
  {
   "cell_type": "code",
   "execution_count": 205,
   "metadata": {},
   "outputs": [
    {
     "data": {
      "image/png": "[encoded data removed]",
      "text/plain": [
       "<matplotlib.figure.Figure at 0x7efe58096278>"
      ]
     },
     "metadata": {
      "needs_background": "light"
     },
     "output_type": "display_data"
    }
   ],
   "source": [
    "f_score_dict = {'lr_train': 0.8602941176470589,\n",
    " 'lr_test': 0.7752808988764045,\n",
    " 'rf_train': 0.9411764705882353,\n",
    " 'rf_test': 0.7865168539325843,\n",
    " 'gbt_train': 1.0,\n",
    " 'gbt_test': 0.7528089887640449,\n",
    " 'cv_rf_train': 0.9558823529411765,\n",
    " 'cv_rf_test': 0.7528089887640449}\n",
    "\n",
    "plt.bar(range(len(f_score_dict)), list(f_score_dict.values()), align='center')\n",
    "plt.title('f1 scores')\n",
    "plt.xticks(range(len(f_score_dict)), list(f_score_dict.keys()),\n",
    "          rotation='vertical')\n",
    "plt.ylabel('f1 score')\n",
    "plt.show()"
   ]
  },
  {
   "cell_type": "markdown",
   "metadata": {},
   "source": [
    "## Modeling findings\n",
    "- We see that the random forest model performs the best with the initial parameters provided when compared to logistic regression and gradient boosted trees. To reduce processing time, I pursued cross validation with the random forest model to further optimize parameters.\n",
    "\n",
    "\n",
    "#### Areas for future improvement: \n",
    "- Note, we are performing this analysis on a subset of the data, so data points when using userId as the unit of analysis is somewhat minimal with 225 observations. This shouldn't be a problem if we were to scale the script to the full dataset. \n",
    "\n",
    "- If we wanted to create more data points with this data, one option might be to create rolling averages for each user to predict whether or not they'll churn the next day. We could do this by looking at their activity the past week and past month. If activity during the past week is different in a predictable way, that might lend itself to predicting future churn. "
   ]
  },
  {
   "cell_type": "code",
   "execution_count": null,
   "metadata": {},
   "outputs": [],
   "source": []
  },
  {
   "cell_type": "markdown",
   "metadata": {},
   "source": [
    "# Final Steps\n",
    "Clean up your code, adding comments and renaming variables to make the code easier to read and maintain. Refer to the Spark Project Overview page and Data Scientist Capstone Project Rubric to make sure you are including all components of the capstone project and meet all expectations. Remember, this includes thorough documentation in a README file in a Github repository, as well as a web app or blog post."
   ]
  },
  {
   "cell_type": "code",
   "execution_count": null,
   "metadata": {},
   "outputs": [],
   "source": []
  }
 ],
 "metadata": {
  "kernelspec": {
   "display_name": "Python 3",
   "language": "python",
   "name": "python3"
  },
  "language_info": {
   "codemirror_mode": {
    "name": "ipython",
    "version": 3
   },
   "file_extension": ".py",
   "mimetype": "text/x-python",
   "name": "python",
   "nbconvert_exporter": "python",
   "pygments_lexer": "ipython3",
   "version": "3.6.3"
  }
 },
 "nbformat": 4,
 "nbformat_minor": 2
}
